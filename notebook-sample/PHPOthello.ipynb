{
 "cells": [
  {
   "cell_type": "markdown",
   "metadata": {},
   "source": [
    "**Me doing othello~**"
   ]
  },
  {
   "cell_type": "code",
   "execution_count": 1,
   "metadata": {},
   "outputs": [
    {
     "data": {
      "text/plain": [
       "[\n",
       "  \"B 6 5\",\n",
       "  \"W 4 6\",\n",
       "  \"B 3 4\",\n",
       "  \"W 4 3\",\n",
       "  \"B 3 5\",\n",
       "  \"W 6 6\",\n",
       "  \"B 5 6\",\n",
       "  \"W 2 6\",\n",
       "  \"B 2 5\",\n",
       "  \"W 1 6\",\n",
       "  \"B 2 4\",\n",
       "  \"W 7 6\",\n",
       "  \"B 7 5\",\n",
       "  \"W 6 4\",\n",
       "  \"B 5 3\",\n",
       "  \"W 6 3\",\n",
       "  \"B 6 2\",\n",
       "  \"W 4 2\",\n",
       "  \"B 3 2\",\n",
       "  \"W 2 3\",\n",
       "  \"B 3 6\",\n",
       "  \"W 3 7\",\n",
       "  \"B 4 7\",\n",
       "  \"W 5 7\",\n",
       "  \"B 7 7\",\n",
       "  \"W 6 7\",\n",
       "  \"B 5 8\",\n",
       "  \"W 4 8\",\n",
       "  \"B 3 8\",\n",
       "  \"W 2 8\",\n",
       "  \"B 2 7\",\n",
       "  \"W 1 7\",\n",
       "  \"B 1 8\",\n",
       "  \"W 7 8\",\n",
       "  \"B 6 8\",\n",
       "  \"W 8 7\",\n",
       "  \"B 8 6\",\n",
       "  \"W 8 4\",\n",
       "  \"B 8 5\",\n",
       "  \"W 8 8\",\n",
       "  \"B 8 3\",\n",
       "  \"W 5 2\",\n",
       "  \"B 3 3\",\n",
       "  \"W 7 4\",\n",
       "  \"B 7 3\",\n",
       "  \"W 7 2\",\n",
       "  \"B 8 2\",\n",
       "  \"W 7 1\",\n",
       "  \"B 8 1\",\n",
       "  \"W 2 2\",\n",
       "  \"B 1 5\",\n",
       "  \"W 1 4\",\n",
       "  \"B 1 3\",\n",
       "  \"W 1 2\",\n",
       "  \"B 6 1\",\n",
       "  \"W 5 1\",\n",
       "  \"B 4 1\",\n",
       "  \"W 3 1\",\n",
       "  \"B 2 1\",\n",
       "  \"W 1 1\",\n",
       "]"
      ]
     },
     "execution_count": 1,
     "metadata": {},
     "output_type": "execute_result"
    }
   ],
   "source": [
    "$puts = \"B 6 5,W 4 6,B 3 4,W 4 3,B 3 5,W 6 6,B 5 6,W 2 6,B 2 5,W 1 6,B 2 4,W 7 6,B 7 5,W 6 4,B 5 3,W 6 3,B 6 2,W 4 2,B 3 2,W 2 3,B 3 6,W 3 7,B 4 7,W 5 7,B 7 7,W 6 7,B 5 8,W 4 8,B 3 8,W 2 8,B 2 7,W 1 7,B 1 8,W 7 8,B 6 8,W 8 7,B 8 6,W 8 4,B 8 5,W 8 8,B 8 3,W 5 2,B 3 3,W 7 4,B 7 3,W 7 2,B 8 2,W 7 1,B 8 1,W 2 2,B 1 5,W 1 4,B 1 3,W 1 2,B 6 1,W 5 1,B 4 1,W 3 1,B 2 1,W 1 1\";\n",
    "$puts=explode(\",\",$puts);"
   ]
  },
  {
   "cell_type": "code",
   "execution_count": 2,
   "metadata": {},
   "outputs": [],
   "source": [
    "function put($map,$nowy,$nowx,$type,$yd,$xd){\n",
    "\t$pointy = $nowy+$yd;$pointx = $nowx+$xd;\n",
    "\t$bingo = false;\n",
    "\twhile(isset($map[$pointy][$pointx]) && $map[$pointy][$pointx] != \"N\" && !$bingo){\t\t\n",
    "\t\tif($map[$pointy][$pointx] === $type){\n",
    "\t\t\t$bingo = true;\n",
    "\t\t\tbreak;\n",
    "\t\t}\n",
    "\t\t$pointy = $pointy+$yd;\n",
    "\t\t$pointx = $pointx+$xd;\n",
    "\t}\n",
    "\t$pointy = $pointy-$yd;$pointx = $pointx-$xd;\n",
    "\tif($bingo){\n",
    "\t\twhile($pointy != $nowy || $pointx != $nowx){\n",
    "\t\t\t$map[$pointy][$pointx] = $type;\n",
    "\t\t\t$pointy = $pointy-$yd;\n",
    "\t\t\t$pointx = $pointx-$xd;\n",
    "\t\t}\n",
    "\t}\n",
    "\treturn $map;\n",
    "}"
   ]
  },
  {
   "cell_type": "code",
   "execution_count": 7,
   "metadata": {},
   "outputs": [
    {
     "data": {
      "text/plain": [
       "\"Set Initial Board\""
      ]
     },
     "execution_count": 7,
     "metadata": {},
     "output_type": "execute_result"
    }
   ],
   "source": [
    "$empty_row =[\"1\"=>\"N\",\"2\"=>\"N\",\"3\"=>\"N\",\"4\"=>\"N\",\"5\"=>\"N\",\"6\"=>\"N\",\"7\"=>\"N\",\"8\"=>\"N\"];\n",
    "$fourth_row=[\"1\"=>\"N\",\"2\"=>\"N\",\"3\"=>\"N\",\"4\"=>\"W\",\"5\"=>\"B\",\"6\"=>\"N\",\"7\"=>\"N\",\"8\"=>\"N\"];\n",
    "$fifth_row =[\"1\"=>\"N\",\"2\"=>\"N\",\"3\"=>\"N\",\"4\"=>\"B\",\"5\"=>\"B\",\"6\"=>\"N\",\"7\"=>\"N\",\"8\"=>\"N\"];\n",
    "$map = [\"1\"=>$empty_row,\n",
    "\"2\" => $empty_row,\n",
    "\"3\" => $empty_row,\n",
    "\"4\" => $fourth_row,\n",
    "\"5\" => $fifth_row,\n",
    "\"6\" => $empty_row,\n",
    "\"7\" => $empty_row,\n",
    "\"8\" => $empty_row];\n",
    "\"Set Initial Board\";"
   ]
  },
  {
   "cell_type": "code",
   "execution_count": 4,
   "metadata": {},
   "outputs": [
    {
     "data": {
      "text/plain": [
       "⚪⚫⚫⚫⚫⚫⚫⚫\n",
       "⚪⚪⚫⚪⚫⚪⚫⚫\n",
       "⚫⚫⚪⚫⚪⚫⚪⚫\n",
       "⚫⚫⚪⚪⚫⚫⚪⚫\n",
       "⚫⚪⚫⚫⚫⚪⚪⚫\n",
       "⚫⚫⚪⚪⚪⚪⚪⚫\n",
       "⚫⚫⚫⚪⚪⚪⚪⚪\n",
       "⚫⚫⚫⚫⚫⚫⚪⚪\n",
       "\n"
      ]
     },
     "execution_count": 4,
     "metadata": {},
     "output_type": "execute_result"
    },
    {
     "data": {
      "text/plain": [
       "38-26 \n"
      ]
     },
     "execution_count": 4,
     "metadata": {},
     "output_type": "execute_result"
    },
    {
     "data": {
      "text/plain": [
       "The black won!\n"
      ]
     },
     "execution_count": 4,
     "metadata": {},
     "output_type": "execute_result"
    }
   ],
   "source": [
    "$oct=[[-1,0],[1,0],[0,-1],[0,1],[-1,-1],[1,-1],[-1,1],[1,1]];\n",
    "foreach($puts as $put){\n",
    "\tlist($type,$x,$y) = explode(\" \",$put);\n",
    "\t$map[$y][$x] = $type;\n",
    "\tforeach($oct as $mv){\n",
    "\t\t$map = put($map,$y,$x,$type,$mv[0],$mv[1]);\n",
    "\t}\n",
    "}\n",
    "\n",
    "\n",
    "$sumBlack = 0;\n",
    "$sumWhite = 0;\n",
    "$out=\"\";\n",
    "foreach($map as $row){\n",
    "\tforeach($row as $v){\n",
    "\t\tif($v === \"B\"){$sumBlack++;}\n",
    "\t\tif($v === \"W\"){$sumWhite++;}\n",
    "        $out.= $v==\"B\"?\"⚫\":\"⚪\";\n",
    "\t}\n",
    "    $out.= \"\\n\";\n",
    "}\n",
    "echo $out;\n",
    "echo sprintf(\"%02d\",$sumBlack).\"-\".sprintf(\"%02d\",$sumWhite).\" \";\n",
    "if($sumBlack>$sumWhite){echo \"The black won!\";}\n",
    "if($sumWhite>$sumBlack){echo \"The white won!\";}\n",
    "if($sumBlack == $sumWhite){echo \"Draw!\";}\n"
   ]
  },
  {
   "cell_type": "code",
   "execution_count": null,
   "metadata": {},
   "outputs": [],
   "source": []
  }
 ],
 "metadata": {
  "kernelspec": {
   "display_name": "PHP",
   "language": "php",
   "name": "jupyter-php"
  },
  "language_info": {
   "file_extension": ".php",
   "mimetype": "text/x-php",
   "name": "PHP",
   "pygments_lexer": "PHP",
   "version": "7.2.10-0ubuntu0.18.04.1"
  }
 },
 "nbformat": 4,
 "nbformat_minor": 2
}
